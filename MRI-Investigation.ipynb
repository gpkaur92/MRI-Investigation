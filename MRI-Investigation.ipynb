{
 "cells": [
  {
   "cell_type": "markdown",
   "metadata": {},
   "source": [
    "**Q1-Functional MRI(Magnetic Resonance Imaging):**\n",
    "\n",
    "In your brain the activity of the neurons constantly fluctuates as you engage in different activities, from simple tasks like controlling your hand to reach out and pick up a cup of coffee to complex cognitive activities like understanding language in a conversation. The brain also has many specialized parts, so that activities involving vision, hearing, touch, language, memory, etc. have different patterns of activity. Even when you rest quietly with your eyes closed the brain is still highly active, and the patterns of activity in this resting state are thought to reveal particular networks of areas that often act together. Functional magnetic resonance imaging (fMRI) is a technique for measuring and mapping brain activity that is noninvasive and safe. It is being used in many studies to better understand how the healthy brain works, and in a growing number of studies it is being applied to understand how that normal function is disrupted in disease[1].\n",
    "\n",
    "FMRI is a noninvasive test that uses a strong magnetic field and radio waves to create detailed images of the body. But instead of creating images of organs and tissues like MRI, fMRI looks at blood flow in the brain to detect areas of activity. These changes in blood flow, which are captured on a computer, help doctors understand more about how the brain works[3].\n",
    "\n",
    "fMRI is based on the idea that blood carrying oxygen from the lungs behaves differently in a magnetic field than blood that has already released its oxygen to the cells. In other words, oxygen-rich blood and oxygen-poor blood have a different magnetic resonance. Scientists know that more active areas of the brain receive more oxygenated blood. The fMRI picks up this increased blood flow to pinpoint greater activity. The measurement of blood flow, blood volume and oxygen use is called the blood-oxygen-level-dependent (BOLD) signal.\n",
    "\n",
    "It may be used to examine the brain’s anatomy, determine which parts of the brain are handling critical functions, evaluate the effects of stroke or disease, or guide brain treatment. fMRI may detect abnormalities within the brain that cannot be found with other imaging techniques[2]."
   ]
  },
  {
   "cell_type": "markdown",
   "metadata": {},
   "source": [
    "**Q2-Controversy due to presentation:**\n",
    "\n",
    "It is very probable that this presentation would lead to controversies because:\n",
    "\n",
    "(1) It is a kind of blow to all of the development so far in FMRI field.\n",
    "\n",
    "(2) It is challenging all those methods that has been developed to improve the analysis of fmri.\n",
    "\n",
    "(3) It would directly effect all the research going on in this field.It arises a question to all the research and we had to start all the development again from a new point.\n",
    "\n",
    "(4) Also, It would be a foundation to start of parallel research in the development of multiple comparison correction in Fmri."
   ]
  },
  {
   "cell_type": "markdown",
   "metadata": {},
   "source": [
    "**Q3-EPI(Echo-planar Imaging):**\n",
    "\n",
    "While MRI as conventionally practiced builds up the data for an image from a series of discrete signal samples, EPI is a method to form a complete image from a single data sample, or a single \"shot\". The speed advantages can be astonishing. For example, a typical T2-weighted imaging series (to form an image whose contrast depends predominantly on the intrinsic tissue magnetization parameter, T2) requires that the time between excitation pulses, known as \"TR\" be two to three times longer than the intrinsic tissue magnetization parameter, T1. The T1 of biological samples is typically on the order of a second or so (cerebrospinal fluid, or CSF, can have much longer T1’s of several seconds); TR must therefore be 3 seconds or more. A more or less typical MR image is formed from 128 repeated samples, so that the imaging time for our canonical T2 weighted scan is about 384 seconds, or more than 6.5 minutes. By comparison, the EPI approach collects all of the image data, for an image of the same resolution, in 40 to 150 milliseconds (depending on hardware and contrast considerations). This reflects a nearly 10,000-fold speed gain.\n",
    "\n",
    "EPI is fundamentally just a trick of spatial encoding. Briefly, a radio frequency excitation pulse with a narrow frequency range is transmitted to the subject in the presence of a spatial magnetic field gradient. Because the magnetic resonance phenomenon depends on an exact match between the radio frequency excitation pulse frequency and the proton spin frequency, which depends in turn, on the local magnetic field, this pulse will excite the MR signal over a correspondingly narrow range of locations: an imaging slice. The differences between EPI and conventional imaging occur in the remaining \"in-plane\" spatial encoding.\n",
    "\n",
    "In ordinary two-dimensional Fourier transform imaging, the encoding for the second in-plane dimension is created by applying a brief gradient pulse (along a second gradient axis) before each readout line. For 128 lines of resolution in this axis, 128 separate lines must be acquired, each for 10 msec. The total readout duration is therefore 128 x 10 msec, or 1.28 seconds. Unfortunately, the MR signal lasts for only about 100 milliseconds (limited by T2) and over the course of a 1.28 second readout duration (spatial encoding period) the signal will have decayed to nothing.\n",
    "\n",
    "In EPI, much larger gradient amplitudes are used. A gradient of about 2.5 gauss/cm is typical, but human images with gradient amplitudes in excess of 5 gauss/cm are achievable. With five times the gradient amplitude, the encoding duration can be reduced by five-fold, to 2 msec/line, so that the total spatial encoding time for our reference image is reduced from 1.28 seconds to 256 msec. The human brain has a T2 of about 100 msec at typical imaging field strengths. Thus, a 256 msec readout might be marginally realistic. In practice, however, for reasons discussed below, this is not a practical configuration. Most significantly, the gradients cannot instantly reach such large magnitudes, and the rise time therefore becomes a significant fraction of the readout duration. Secondly, the decay of the MR signal during readout introduces blurring into the images [6]. Because of these tradeoffs, most EPI studies are performed at somewhat lower resolution. In-plane voxel sizes between 1.5 and 3 mm are typical[7]."
   ]
  },
  {
   "cell_type": "markdown",
   "metadata": {},
   "source": [
    "**References:**\n",
    "\n",
    "[1] fmri.ucsd.edu/Research/whatisfmri.html\n",
    "\n",
    "[2] https://www.radiologyinfo.org/en/info.cfm?pg=fmribrain\n",
    "\n",
    "[3] *Voluntary Attention modulates fMRI activity in Human MT-MST*-Kathleen M.O'Craven, Bruce R.Rosen, Kenneth K. Kwong, Anne  Treisman, Robert L.Savoy\n",
    "\n",
    "[4] *What we can do and what we cannot do with fMRI*-Nikos K.Logothetis\n",
    "\n",
    "[5] *Introduction to functional Magnetic Resonance Imaging: Principles and Techniques*- Cambridge Univ. Press,Cambridge, UK,1992\n",
    "\n",
    "[6] *Analysis of T2 limitations and off-resonance effects on spatial resolution and artifacts in echo-planar imaging*- Farzaneh F., S J. Riederer, N.J.Pelc\n",
    "\n",
    "[7] *Echo-planar imaging(EPI) and functional MRI*- Mark S. Cohen, Ph.D."
   ]
  }
 ],
 "metadata": {
  "kernelspec": {
   "display_name": "Python 2",
   "language": "python",
   "name": "python2"
  },
  "language_info": {
   "codemirror_mode": {
    "name": "ipython",
    "version": 2
   },
   "file_extension": ".py",
   "mimetype": "text/x-python",
   "name": "python",
   "nbconvert_exporter": "python",
   "pygments_lexer": "ipython2",
   "version": "2.7.13"
  }
 },
 "nbformat": 4,
 "nbformat_minor": 2
}
